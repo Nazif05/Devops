{
  "cells": [
    {
      "cell_type": "markdown",
      "metadata": {
        "id": "view-in-github",
        "colab_type": "text"
      },
      "source": [
        "<a href=\"https://colab.research.google.com/github/Nazif05/Devops/blob/main/python_solutions_project_Nazif.ipynb\" target=\"_parent\"><img src=\"https://colab.research.google.com/assets/colab-badge.svg\" alt=\"Open In Colab\"/></a>"
      ]
    },
    {
      "cell_type": "markdown",
      "id": "8724ebcb-3e23-4975-955d-f3c9115d6d0b",
      "metadata": {
        "id": "8724ebcb-3e23-4975-955d-f3c9115d6d0b"
      },
      "source": [
        "## PYTHON SOLUTIONS FINAL PROJECT - GEOCODING\n",
        "\n",
        "By Nazif Umar"
      ]
    },
    {
      "cell_type": "markdown",
      "id": "3850ca12-1c35-499f-8098-5d224433287b",
      "metadata": {
        "tags": [],
        "id": "3850ca12-1c35-499f-8098-5d224433287b"
      },
      "source": [
        "Geocoding is the process of converting a physical address or location, such as a street address or landmark, into geographic coordinates, typically latitude and longitude. This allows the location to be plotted on a map and used in various applications and analyses, such as mapping, navigation, and geospatial analysis."
      ]
    },
    {
      "cell_type": "markdown",
      "id": "c23c1033-ab96-47bb-b506-7ff565cc8ade",
      "metadata": {
        "id": "c23c1033-ab96-47bb-b506-7ff565cc8ade"
      },
      "source": [
        "## PROBLEM STATEMENT"
      ]
    },
    {
      "cell_type": "markdown",
      "id": "f2fc1dc9-e9e4-4c90-b50b-c5d165f9ff00",
      "metadata": {
        "id": "f2fc1dc9-e9e4-4c90-b50b-c5d165f9ff00"
      },
      "source": [
        "The problem statement for the  project is given a list of mall addresses in Putrajaya, Cyberjaya, Kajang, and Bandar Bangi in Selangor, Malaysia.\n",
        "How can we use geocoding with Geopy to obtain their respective latitude and longitude coordinates?"
      ]
    },
    {
      "cell_type": "markdown",
      "id": "9a195110-96c5-4b02-a434-576aef8129bb",
      "metadata": {
        "id": "9a195110-96c5-4b02-a434-576aef8129bb"
      },
      "source": [
        "## STEP 1 - GATHERING ADDRESSES"
      ]
    },
    {
      "cell_type": "markdown",
      "id": "94445478-c371-4c1e-ba1a-54f9e4840667",
      "metadata": {
        "tags": [],
        "id": "94445478-c371-4c1e-ba1a-54f9e4840667"
      },
      "source": [
        "Gather a list of mall addresses in the whole locations mentioned above. This has been done manually by searching for mall addresses online."
      ]
    },
    {
      "cell_type": "code",
      "execution_count": null,
      "id": "33d85b9a-f5b6-4667-98a0-45d4f94bccf8",
      "metadata": {
        "tags": [],
        "id": "33d85b9a-f5b6-4667-98a0-45d4f94bccf8"
      },
      "outputs": [],
      "source": [
        "import csv\n",
        "import pandas as pd"
      ]
    },
    {
      "cell_type": "code",
      "execution_count": null,
      "id": "4b6a3abe-f35d-4e76-a6e7-60f942832689",
      "metadata": {
        "tags": [],
        "id": "4b6a3abe-f35d-4e76-a6e7-60f942832689"
      },
      "outputs": [],
      "source": [
        "import os\n",
        "data_pkg_path = 'data'\n",
        "filename = 'mall.csv'\n",
        "path = os.path.join(data_pkg_path, filename)"
      ]
    },
    {
      "cell_type": "code",
      "execution_count": null,
      "id": "6d5109c4-e97b-499f-8730-5e4602ba4ab4",
      "metadata": {
        "tags": [],
        "id": "6d5109c4-e97b-499f-8730-5e4602ba4ab4",
        "outputId": "c3a7e1ac-742e-445f-cb54-edda7ff3b269",
        "colab": {
          "base_uri": "https://localhost:8080/",
          "height": 36
        }
      },
      "outputs": [
        {
          "output_type": "execute_result",
          "data": {
            "text/plain": [
              "'data/mall.csv'"
            ],
            "application/vnd.google.colaboratory.intrinsic+json": {
              "type": "string"
            }
          },
          "metadata": {},
          "execution_count": 5
        }
      ],
      "source": [
        "path"
      ]
    },
    {
      "cell_type": "markdown",
      "id": "46edf06c-42f4-4bea-b6a0-3d2a677883fe",
      "metadata": {
        "id": "46edf06c-42f4-4bea-b6a0-3d2a677883fe"
      },
      "source": [
        "## STEP 2 - INSTALL GEOPY"
      ]
    },
    {
      "cell_type": "markdown",
      "id": "e045e0aa-1300-4200-8a44-f9c953def429",
      "metadata": {
        "id": "e045e0aa-1300-4200-8a44-f9c953def429"
      },
      "source": [
        "Use Geopy's geocoding functionality to convert the mall addresses to their respective latitude and longitude coordinates."
      ]
    },
    {
      "cell_type": "code",
      "execution_count": null,
      "id": "0b8fdb05-a3aa-4bbf-b63d-3d4ed82e1d79",
      "metadata": {
        "tags": [],
        "id": "0b8fdb05-a3aa-4bbf-b63d-3d4ed82e1d79"
      },
      "outputs": [],
      "source": [
        "import geopy"
      ]
    },
    {
      "cell_type": "code",
      "execution_count": null,
      "id": "3ea48a9c-91d6-4937-b61d-35810dbab074",
      "metadata": {
        "tags": [],
        "id": "3ea48a9c-91d6-4937-b61d-35810dbab074",
        "outputId": "b7a1bbbc-4b52-4c08-b72d-048e482e1318",
        "colab": {
          "base_uri": "https://localhost:8080/"
        }
      },
      "outputs": [
        {
          "output_type": "execute_result",
          "data": {
            "text/plain": [
              "['AlgoliaPlaces',\n",
              " 'ArcGIS',\n",
              " 'AzureMaps',\n",
              " 'BANFrance',\n",
              " 'Baidu',\n",
              " 'BaiduV3',\n",
              " 'Bing',\n",
              " 'DataBC',\n",
              " 'GeoNames',\n",
              " 'GeocodeEarth',\n",
              " 'Geocodio',\n",
              " 'Geolake',\n",
              " 'GoogleV3',\n",
              " 'Here',\n",
              " 'HereV7',\n",
              " 'IGNFrance',\n",
              " 'LiveAddress',\n",
              " 'Location',\n",
              " 'MapBox',\n",
              " 'MapQuest',\n",
              " 'MapTiler',\n",
              " 'Nominatim',\n",
              " 'OpenCage',\n",
              " 'OpenMapQuest',\n",
              " 'Pelias',\n",
              " 'Photon',\n",
              " 'PickPoint',\n",
              " 'Point',\n",
              " 'Timezone',\n",
              " 'TomTom',\n",
              " 'What3Words',\n",
              " 'What3WordsV3',\n",
              " 'Yandex',\n",
              " '__builtins__',\n",
              " '__cached__',\n",
              " '__doc__',\n",
              " '__file__',\n",
              " '__loader__',\n",
              " '__name__',\n",
              " '__package__',\n",
              " '__path__',\n",
              " '__spec__',\n",
              " '__version__',\n",
              " '__version_info__',\n",
              " 'adapters',\n",
              " 'compat',\n",
              " 'exc',\n",
              " 'format',\n",
              " 'geocoders',\n",
              " 'get_geocoder_for_service',\n",
              " 'get_version',\n",
              " 'location',\n",
              " 'point',\n",
              " 'timezone',\n",
              " 'units',\n",
              " 'util']"
            ]
          },
          "metadata": {},
          "execution_count": 7
        }
      ],
      "source": [
        "dir(geopy)"
      ]
    },
    {
      "cell_type": "markdown",
      "id": "014ac6a2-9df9-49c6-832f-1c3f66b893cc",
      "metadata": {
        "tags": [],
        "id": "014ac6a2-9df9-49c6-832f-1c3f66b893cc"
      },
      "source": [
        "### List of Mall Names and Address"
      ]
    },
    {
      "cell_type": "code",
      "execution_count": null,
      "id": "2e3e8f95-a1c0-49f6-8f8d-418addb0edbc",
      "metadata": {
        "tags": [],
        "id": "2e3e8f95-a1c0-49f6-8f8d-418addb0edbc"
      },
      "outputs": [],
      "source": [
        "names = [['Alamanda Shopping Centre','Jalan Alamanda, Presint 1, 62000 Putrajaya'],\n",
        "         ['IOI city mall Putrajaya','XP96+VJ,IOI Resort, 43000 Seri Kembangan, Selangor'],\n",
        "         ['Suria mall Putrajaya', 'Jalan Tun Abdul Razak, Presint 3, 62100 Putrajaya'],\n",
        "         ['Dõpulze shopping centre','Persiaran Multimedia, Cyberjaya, 63000 Cyberjaya, Selangor'],\n",
        "         ['Gem in mall', 'Persiaran Sepang, Cyber 11, 63000 Cyberjaya, Selangor'],\n",
        "         ['Shaftsbury square', 'Shaftsbury Square, Persiaran Multimedia, Cyber 6, 63000 Cyberjaya'],\n",
        "         ['Malakat mall', 'Lingkaran Cyber Point Timur, Cyberjaya, 63000 Cyberjaya, Selangor'],\n",
        "         ['Bangi gateway', 'Seksyen 15, 43650 Bandar Baru Bangi, Selangor'],\n",
        "         ['De Centrum city', 'Jalan Ikram Uniten, 43000 Kajang, Selangor'],\n",
        "         ['Evo Bangi', 'Jalan Medan 2D, Seksyen 9, 43650 Bandar Baru Bangi, Selangor'],\n",
        "         ['Kip mall Bangi', 'Jalan Medan Bangi, Seksyen 6, 43650 Bandar Baru Bangi, Selangor'],\n",
        "         ['Metro point Kajang', 'Jalan Jelok Indah 9, Taman Jelok Indah, 43000 Kajang, Selangor'],\n",
        "         ['Plaza metro Kajang', 'Jalan Tun Abdul Aziz, Seksyen 1, 43000 Kajang, Selangor']\n",
        "\n",
        "]"
      ]
    },
    {
      "cell_type": "markdown",
      "id": "883f2edb-af85-48aa-a8c3-28d4c16930b2",
      "metadata": {
        "id": "883f2edb-af85-48aa-a8c3-28d4c16930b2"
      },
      "source": [
        "## STEP 3 - PANDAS DATAFRAME"
      ]
    },
    {
      "cell_type": "markdown",
      "id": "473f000a-e6cb-483a-94d3-3071a3f3f1a1",
      "metadata": {
        "id": "473f000a-e6cb-483a-94d3-3071a3f3f1a1"
      },
      "source": [
        "##### Creating a Pandas dataframe is important because it allows you to organize and manipulate data in a structured manner."
      ]
    },
    {
      "cell_type": "code",
      "execution_count": null,
      "id": "15c26f69-f780-4773-b779-a87f882a9428",
      "metadata": {
        "tags": [],
        "id": "15c26f69-f780-4773-b779-a87f882a9428",
        "outputId": "6cb57675-0df0-4037-96d5-3464f27ba6f8",
        "colab": {
          "base_uri": "https://localhost:8080/",
          "height": 457
        }
      },
      "outputs": [
        {
          "output_type": "execute_result",
          "data": {
            "text/plain": [
              "                NAME OF MALL  \\\n",
              "0   Alamanda Shopping Centre   \n",
              "1    IOI city mall Putrajaya   \n",
              "2       Suria mall Putrajaya   \n",
              "3    Dõpulze shopping centre   \n",
              "4                Gem in mall   \n",
              "5          Shaftsbury square   \n",
              "6               Malakat mall   \n",
              "7              Bangi gateway   \n",
              "8            De Centrum city   \n",
              "9                  Evo Bangi   \n",
              "10            Kip mall Bangi   \n",
              "11        Metro point Kajang   \n",
              "12        Plaza metro Kajang   \n",
              "\n",
              "                                              Address  \n",
              "0          Jalan Alamanda, Presint 1, 62000 Putrajaya  \n",
              "1   XP96+VJ,IOI Resort, 43000 Seri Kembangan, Sela...  \n",
              "2   Jalan Tun Abdul Razak, Presint 3, 62100 Putrajaya  \n",
              "3   Persiaran Multimedia, Cyberjaya, 63000 Cyberja...  \n",
              "4   Persiaran Sepang, Cyber 11, 63000 Cyberjaya, S...  \n",
              "5   Shaftsbury Square, Persiaran Multimedia, Cyber...  \n",
              "6   Lingkaran Cyber Point Timur, Cyberjaya, 63000 ...  \n",
              "7       Seksyen 15, 43650 Bandar Baru Bangi, Selangor  \n",
              "8          Jalan Ikram Uniten, 43000 Kajang, Selangor  \n",
              "9   Jalan Medan 2D, Seksyen 9, 43650 Bandar Baru B...  \n",
              "10  Jalan Medan Bangi, Seksyen 6, 43650 Bandar Bar...  \n",
              "11  Jalan Jelok Indah 9, Taman Jelok Indah, 43000 ...  \n",
              "12  Jalan Tun Abdul Aziz, Seksyen 1, 43000 Kajang,...  "
            ],
            "text/html": [
              "\n",
              "  <div id=\"df-e3a2b7c2-6c80-4e89-a111-bb36b62326d1\">\n",
              "    <div class=\"colab-df-container\">\n",
              "      <div>\n",
              "<style scoped>\n",
              "    .dataframe tbody tr th:only-of-type {\n",
              "        vertical-align: middle;\n",
              "    }\n",
              "\n",
              "    .dataframe tbody tr th {\n",
              "        vertical-align: top;\n",
              "    }\n",
              "\n",
              "    .dataframe thead th {\n",
              "        text-align: right;\n",
              "    }\n",
              "</style>\n",
              "<table border=\"1\" class=\"dataframe\">\n",
              "  <thead>\n",
              "    <tr style=\"text-align: right;\">\n",
              "      <th></th>\n",
              "      <th>NAME OF MALL</th>\n",
              "      <th>Address</th>\n",
              "    </tr>\n",
              "  </thead>\n",
              "  <tbody>\n",
              "    <tr>\n",
              "      <th>0</th>\n",
              "      <td>Alamanda Shopping Centre</td>\n",
              "      <td>Jalan Alamanda, Presint 1, 62000 Putrajaya</td>\n",
              "    </tr>\n",
              "    <tr>\n",
              "      <th>1</th>\n",
              "      <td>IOI city mall Putrajaya</td>\n",
              "      <td>XP96+VJ,IOI Resort, 43000 Seri Kembangan, Sela...</td>\n",
              "    </tr>\n",
              "    <tr>\n",
              "      <th>2</th>\n",
              "      <td>Suria mall Putrajaya</td>\n",
              "      <td>Jalan Tun Abdul Razak, Presint 3, 62100 Putrajaya</td>\n",
              "    </tr>\n",
              "    <tr>\n",
              "      <th>3</th>\n",
              "      <td>Dõpulze shopping centre</td>\n",
              "      <td>Persiaran Multimedia, Cyberjaya, 63000 Cyberja...</td>\n",
              "    </tr>\n",
              "    <tr>\n",
              "      <th>4</th>\n",
              "      <td>Gem in mall</td>\n",
              "      <td>Persiaran Sepang, Cyber 11, 63000 Cyberjaya, S...</td>\n",
              "    </tr>\n",
              "    <tr>\n",
              "      <th>5</th>\n",
              "      <td>Shaftsbury square</td>\n",
              "      <td>Shaftsbury Square, Persiaran Multimedia, Cyber...</td>\n",
              "    </tr>\n",
              "    <tr>\n",
              "      <th>6</th>\n",
              "      <td>Malakat mall</td>\n",
              "      <td>Lingkaran Cyber Point Timur, Cyberjaya, 63000 ...</td>\n",
              "    </tr>\n",
              "    <tr>\n",
              "      <th>7</th>\n",
              "      <td>Bangi gateway</td>\n",
              "      <td>Seksyen 15, 43650 Bandar Baru Bangi, Selangor</td>\n",
              "    </tr>\n",
              "    <tr>\n",
              "      <th>8</th>\n",
              "      <td>De Centrum city</td>\n",
              "      <td>Jalan Ikram Uniten, 43000 Kajang, Selangor</td>\n",
              "    </tr>\n",
              "    <tr>\n",
              "      <th>9</th>\n",
              "      <td>Evo Bangi</td>\n",
              "      <td>Jalan Medan 2D, Seksyen 9, 43650 Bandar Baru B...</td>\n",
              "    </tr>\n",
              "    <tr>\n",
              "      <th>10</th>\n",
              "      <td>Kip mall Bangi</td>\n",
              "      <td>Jalan Medan Bangi, Seksyen 6, 43650 Bandar Bar...</td>\n",
              "    </tr>\n",
              "    <tr>\n",
              "      <th>11</th>\n",
              "      <td>Metro point Kajang</td>\n",
              "      <td>Jalan Jelok Indah 9, Taman Jelok Indah, 43000 ...</td>\n",
              "    </tr>\n",
              "    <tr>\n",
              "      <th>12</th>\n",
              "      <td>Plaza metro Kajang</td>\n",
              "      <td>Jalan Tun Abdul Aziz, Seksyen 1, 43000 Kajang,...</td>\n",
              "    </tr>\n",
              "  </tbody>\n",
              "</table>\n",
              "</div>\n",
              "      <button class=\"colab-df-convert\" onclick=\"convertToInteractive('df-e3a2b7c2-6c80-4e89-a111-bb36b62326d1')\"\n",
              "              title=\"Convert this dataframe to an interactive table.\"\n",
              "              style=\"display:none;\">\n",
              "        \n",
              "  <svg xmlns=\"http://www.w3.org/2000/svg\" height=\"24px\"viewBox=\"0 0 24 24\"\n",
              "       width=\"24px\">\n",
              "    <path d=\"M0 0h24v24H0V0z\" fill=\"none\"/>\n",
              "    <path d=\"M18.56 5.44l.94 2.06.94-2.06 2.06-.94-2.06-.94-.94-2.06-.94 2.06-2.06.94zm-11 1L8.5 8.5l.94-2.06 2.06-.94-2.06-.94L8.5 2.5l-.94 2.06-2.06.94zm10 10l.94 2.06.94-2.06 2.06-.94-2.06-.94-.94-2.06-.94 2.06-2.06.94z\"/><path d=\"M17.41 7.96l-1.37-1.37c-.4-.4-.92-.59-1.43-.59-.52 0-1.04.2-1.43.59L10.3 9.45l-7.72 7.72c-.78.78-.78 2.05 0 2.83L4 21.41c.39.39.9.59 1.41.59.51 0 1.02-.2 1.41-.59l7.78-7.78 2.81-2.81c.8-.78.8-2.07 0-2.86zM5.41 20L4 18.59l7.72-7.72 1.47 1.35L5.41 20z\"/>\n",
              "  </svg>\n",
              "      </button>\n",
              "      \n",
              "  <style>\n",
              "    .colab-df-container {\n",
              "      display:flex;\n",
              "      flex-wrap:wrap;\n",
              "      gap: 12px;\n",
              "    }\n",
              "\n",
              "    .colab-df-convert {\n",
              "      background-color: #E8F0FE;\n",
              "      border: none;\n",
              "      border-radius: 50%;\n",
              "      cursor: pointer;\n",
              "      display: none;\n",
              "      fill: #1967D2;\n",
              "      height: 32px;\n",
              "      padding: 0 0 0 0;\n",
              "      width: 32px;\n",
              "    }\n",
              "\n",
              "    .colab-df-convert:hover {\n",
              "      background-color: #E2EBFA;\n",
              "      box-shadow: 0px 1px 2px rgba(60, 64, 67, 0.3), 0px 1px 3px 1px rgba(60, 64, 67, 0.15);\n",
              "      fill: #174EA6;\n",
              "    }\n",
              "\n",
              "    [theme=dark] .colab-df-convert {\n",
              "      background-color: #3B4455;\n",
              "      fill: #D2E3FC;\n",
              "    }\n",
              "\n",
              "    [theme=dark] .colab-df-convert:hover {\n",
              "      background-color: #434B5C;\n",
              "      box-shadow: 0px 1px 3px 1px rgba(0, 0, 0, 0.15);\n",
              "      filter: drop-shadow(0px 1px 2px rgba(0, 0, 0, 0.3));\n",
              "      fill: #FFFFFF;\n",
              "    }\n",
              "  </style>\n",
              "\n",
              "      <script>\n",
              "        const buttonEl =\n",
              "          document.querySelector('#df-e3a2b7c2-6c80-4e89-a111-bb36b62326d1 button.colab-df-convert');\n",
              "        buttonEl.style.display =\n",
              "          google.colab.kernel.accessAllowed ? 'block' : 'none';\n",
              "\n",
              "        async function convertToInteractive(key) {\n",
              "          const element = document.querySelector('#df-e3a2b7c2-6c80-4e89-a111-bb36b62326d1');\n",
              "          const dataTable =\n",
              "            await google.colab.kernel.invokeFunction('convertToInteractive',\n",
              "                                                     [key], {});\n",
              "          if (!dataTable) return;\n",
              "\n",
              "          const docLinkHtml = 'Like what you see? Visit the ' +\n",
              "            '<a target=\"_blank\" href=https://colab.research.google.com/notebooks/data_table.ipynb>data table notebook</a>'\n",
              "            + ' to learn more about interactive tables.';\n",
              "          element.innerHTML = '';\n",
              "          dataTable['output_type'] = 'display_data';\n",
              "          await google.colab.output.renderOutput(dataTable, element);\n",
              "          const docLink = document.createElement('div');\n",
              "          docLink.innerHTML = docLinkHtml;\n",
              "          element.appendChild(docLink);\n",
              "        }\n",
              "      </script>\n",
              "    </div>\n",
              "  </div>\n",
              "  "
            ]
          },
          "metadata": {},
          "execution_count": 9
        }
      ],
      "source": [
        "df = pd.DataFrame(names, columns = ['NAME OF MALL', 'Address'])\n",
        "df"
      ]
    },
    {
      "cell_type": "markdown",
      "id": "653aee1d-29e1-44b8-bda3-0ad0d03f2ab0",
      "metadata": {
        "tags": [],
        "id": "653aee1d-29e1-44b8-bda3-0ad0d03f2ab0"
      },
      "source": [
        "There is also a info() method that shows basic information about the dataframe, such as number of rows/columns and data types of each column."
      ]
    },
    {
      "cell_type": "code",
      "execution_count": null,
      "id": "4a2afe27-b084-4ef1-88f9-88506a649477",
      "metadata": {
        "tags": [],
        "id": "4a2afe27-b084-4ef1-88f9-88506a649477",
        "outputId": "432df0c8-be26-43b5-b05d-6c11708002f6",
        "colab": {
          "base_uri": "https://localhost:8080/"
        }
      },
      "outputs": [
        {
          "output_type": "stream",
          "name": "stdout",
          "text": [
            "<class 'pandas.core.frame.DataFrame'>\n",
            "RangeIndex: 13 entries, 0 to 12\n",
            "Data columns (total 2 columns):\n",
            " #   Column        Non-Null Count  Dtype \n",
            "---  ------        --------------  ----- \n",
            " 0   NAME OF MALL  13 non-null     object\n",
            " 1   Address       13 non-null     object\n",
            "dtypes: object(2)\n",
            "memory usage: 336.0+ bytes\n"
          ]
        }
      ],
      "source": [
        "df.info()"
      ]
    },
    {
      "cell_type": "code",
      "execution_count": null,
      "id": "ef4819eb-d78c-4f31-bada-0be2369c564a",
      "metadata": {
        "tags": [],
        "id": "ef4819eb-d78c-4f31-bada-0be2369c564a"
      },
      "outputs": [],
      "source": [
        "from geopy.geocoders import Nominatim\n",
        "from geopy.extra.rate_limiter import RateLimiter\n",
        "# tip: https://towardsdatascience.com/geocode-with-python-161ec1e62b89\n",
        "# Using Nominatim Geocoding service\n",
        "\n",
        "locator = Nominatim(user_agent='myGeocoder')\n"
      ]
    },
    {
      "cell_type": "markdown",
      "id": "23bdd7b9-a60e-4c63-856a-04cc2114e815",
      "metadata": {
        "tags": [],
        "id": "23bdd7b9-a60e-4c63-856a-04cc2114e815"
      },
      "source": [
        "A function to delay geocoding calls is important because it helps prevent overloading the geocoding service with too many requests at once, which could result in errors or being temporarily blocked from accessing the service."
      ]
    },
    {
      "cell_type": "code",
      "execution_count": null,
      "id": "d36e4166-ee6b-4340-9529-35e019fd8be1",
      "metadata": {
        "tags": [],
        "id": "d36e4166-ee6b-4340-9529-35e019fd8be1"
      },
      "outputs": [],
      "source": [
        "# function to delay geocoding calls\n",
        "geocode_fn = RateLimiter(locator.geocode, min_delay_seconds=2)"
      ]
    },
    {
      "cell_type": "markdown",
      "id": "ca047521-a275-4b46-a4f8-06c26367a6da",
      "metadata": {
        "id": "ca047521-a275-4b46-a4f8-06c26367a6da"
      },
      "source": [
        "# Step 4: Use Geopy To Geocode Mall Addresses"
      ]
    },
    {
      "cell_type": "code",
      "execution_count": null,
      "id": "4307e81d-23be-4d16-ab43-cff32654ca10",
      "metadata": {
        "tags": [],
        "id": "4307e81d-23be-4d16-ab43-cff32654ca10"
      },
      "outputs": [],
      "source": [
        "# Geocoding\n",
        "df['coordinates'] = df['Address'].apply(geocode_fn)\n",
        "df"
      ]
    },
    {
      "cell_type": "code",
      "execution_count": null,
      "id": "b5c17f6b-4168-4318-b67b-ad7a5f956f66",
      "metadata": {
        "tags": [],
        "id": "b5c17f6b-4168-4318-b67b-ad7a5f956f66",
        "outputId": "49cfdf48-7195-44c6-c27f-286bec2373da",
        "colab": {
          "base_uri": "https://localhost:8080/"
        }
      },
      "outputs": [
        {
          "output_type": "execute_result",
          "data": {
            "text/plain": [
              "0     (Jalan Alamanda, Presint 1, Putrajaya, 62000, ...\n",
              "1                                                  None\n",
              "2                                                  None\n",
              "3     (Persiaran Multimedia, Cyber 12, Cyberjaya, Se...\n",
              "4     (Persiaran Sepang, Cyber 9, Cyberjaya, Sepang,...\n",
              "5     (Shaftsbury Square Shop & Retail, Persiaran Mu...\n",
              "6     (Lingkaran Cyber Point Timur, Cyber 12, Cyberj...\n",
              "7     (Seksyen 15, Bandar Baru Bangi, Majlis Perband...\n",
              "8                                                  None\n",
              "9                                                  None\n",
              "10    (Jalan Medan Bangi, Seksyen 16, Bandar Baru Ba...\n",
              "11                                                 None\n",
              "12                                                 None\n",
              "Name: coordinates, dtype: object"
            ]
          },
          "metadata": {},
          "execution_count": 12
        }
      ],
      "source": [
        "df.coordinates"
      ]
    },
    {
      "cell_type": "code",
      "execution_count": null,
      "id": "83206e41-be99-41b7-a625-64a91598f814",
      "metadata": {
        "tags": [],
        "id": "83206e41-be99-41b7-a625-64a91598f814",
        "outputId": "a47b3782-590d-43ce-bb23-c64cc30be18b",
        "colab": {
          "base_uri": "https://localhost:8080/"
        }
      },
      "outputs": [
        {
          "output_type": "execute_result",
          "data": {
            "text/plain": [
              "Location(Jalan Alamanda, Presint 1, Putrajaya, 62000, Malaysia, (2.9375959, 101.7119678, 0.0))"
            ]
          },
          "metadata": {},
          "execution_count": 13
        }
      ],
      "source": [
        "df.coordinates[0]"
      ]
    },
    {
      "cell_type": "code",
      "execution_count": null,
      "id": "5dbc5e47-e0dc-420d-b4a8-9b9370080067",
      "metadata": {
        "tags": [],
        "id": "5dbc5e47-e0dc-420d-b4a8-9b9370080067",
        "outputId": "429a194d-aa1f-494e-e21e-1eb33a83cc42",
        "colab": {
          "base_uri": "https://localhost:8080/"
        }
      },
      "outputs": [
        {
          "output_type": "execute_result",
          "data": {
            "text/plain": [
              "2.9375959"
            ]
          },
          "metadata": {},
          "execution_count": 14
        }
      ],
      "source": [
        "df.coordinates[0].latitude"
      ]
    },
    {
      "cell_type": "code",
      "execution_count": null,
      "id": "f34cfea3-2170-49c1-8eae-1a9aaea0ec67",
      "metadata": {
        "tags": [],
        "id": "f34cfea3-2170-49c1-8eae-1a9aaea0ec67",
        "outputId": "d5f48fe9-9346-4ca6-b90b-60489f4cec24",
        "colab": {
          "base_uri": "https://localhost:8080/"
        }
      },
      "outputs": [
        {
          "output_type": "execute_result",
          "data": {
            "text/plain": [
              "101.7119678"
            ]
          },
          "metadata": {},
          "execution_count": 15
        }
      ],
      "source": [
        "df.coordinates[0].longitude"
      ]
    },
    {
      "cell_type": "markdown",
      "id": "d902288b-f631-474e-8045-2c1403dfa757",
      "metadata": {
        "id": "d902288b-f631-474e-8045-2c1403dfa757"
      },
      "source": [
        "Hereby, we add two column specifically for Latitude and Longitude"
      ]
    },
    {
      "cell_type": "code",
      "execution_count": null,
      "id": "5e7054e6-9e7d-4a75-891a-7a071314aa80",
      "metadata": {
        "tags": [],
        "id": "5e7054e6-9e7d-4a75-891a-7a071314aa80",
        "outputId": "b9868c63-ca84-4473-b89f-a22541ef066a",
        "colab": {
          "base_uri": "https://localhost:8080/",
          "height": 602
        }
      },
      "outputs": [
        {
          "output_type": "execute_result",
          "data": {
            "text/plain": [
              "                NAME OF MALL  \\\n",
              "0   Alamanda Shopping Centre   \n",
              "1    IOI city mall Putrajaya   \n",
              "2       Suria mall Putrajaya   \n",
              "3    Dõpulze shopping centre   \n",
              "4                Gem in mall   \n",
              "5          Shaftsbury square   \n",
              "6               Malakat mall   \n",
              "7              Bangi gateway   \n",
              "8            De Centrum city   \n",
              "9                  Evo Bangi   \n",
              "10            Kip mall Bangi   \n",
              "11        Metro point Kajang   \n",
              "12        Plaza metro Kajang   \n",
              "\n",
              "                                              Address  \\\n",
              "0          Jalan Alamanda, Presint 1, 62000 Putrajaya   \n",
              "1   XP96+VJ,IOI Resort, 43000 Seri Kembangan, Sela...   \n",
              "2   Jalan Tun Abdul Razak, Presint 3, 62100 Putrajaya   \n",
              "3   Persiaran Multimedia, Cyberjaya, 63000 Cyberja...   \n",
              "4   Persiaran Sepang, Cyber 11, 63000 Cyberjaya, S...   \n",
              "5   Shaftsbury Square, Persiaran Multimedia, Cyber...   \n",
              "6   Lingkaran Cyber Point Timur, Cyberjaya, 63000 ...   \n",
              "7       Seksyen 15, 43650 Bandar Baru Bangi, Selangor   \n",
              "8          Jalan Ikram Uniten, 43000 Kajang, Selangor   \n",
              "9   Jalan Medan 2D, Seksyen 9, 43650 Bandar Baru B...   \n",
              "10  Jalan Medan Bangi, Seksyen 6, 43650 Bandar Bar...   \n",
              "11  Jalan Jelok Indah 9, Taman Jelok Indah, 43000 ...   \n",
              "12  Jalan Tun Abdul Aziz, Seksyen 1, 43000 Kajang,...   \n",
              "\n",
              "                                          coordinates  Latitude   Longitude  \n",
              "0   (Jalan Alamanda, Presint 1, Putrajaya, 62000, ...  2.937596  101.711968  \n",
              "1                                                None       NaN         NaN  \n",
              "2                                                None       NaN         NaN  \n",
              "3   (Persiaran Multimedia, Cyber 12, Cyberjaya, Se...  2.922220  101.645441  \n",
              "4   (Persiaran Sepang, Cyber 9, Cyberjaya, Sepang,...  2.916354  101.634379  \n",
              "5   (Shaftsbury Square Shop & Retail, Persiaran Mu...  2.923262  101.660718  \n",
              "6   (Lingkaran Cyber Point Timur, Cyber 12, Cyberj...  2.921339  101.650019  \n",
              "7   (Seksyen 15, Bandar Baru Bangi, Majlis Perband...  2.929863  101.768207  \n",
              "8                                                None       NaN         NaN  \n",
              "9                                                None       NaN         NaN  \n",
              "10  (Jalan Medan Bangi, Seksyen 16, Bandar Baru Ba...  2.952677  101.756885  \n",
              "11                                               None       NaN         NaN  \n",
              "12                                               None       NaN         NaN  "
            ],
            "text/html": [
              "\n",
              "  <div id=\"df-9cd97d1a-3c49-4509-ada7-10142ab8890f\">\n",
              "    <div class=\"colab-df-container\">\n",
              "      <div>\n",
              "<style scoped>\n",
              "    .dataframe tbody tr th:only-of-type {\n",
              "        vertical-align: middle;\n",
              "    }\n",
              "\n",
              "    .dataframe tbody tr th {\n",
              "        vertical-align: top;\n",
              "    }\n",
              "\n",
              "    .dataframe thead th {\n",
              "        text-align: right;\n",
              "    }\n",
              "</style>\n",
              "<table border=\"1\" class=\"dataframe\">\n",
              "  <thead>\n",
              "    <tr style=\"text-align: right;\">\n",
              "      <th></th>\n",
              "      <th>NAME OF MALL</th>\n",
              "      <th>Address</th>\n",
              "      <th>coordinates</th>\n",
              "      <th>Latitude</th>\n",
              "      <th>Longitude</th>\n",
              "    </tr>\n",
              "  </thead>\n",
              "  <tbody>\n",
              "    <tr>\n",
              "      <th>0</th>\n",
              "      <td>Alamanda Shopping Centre</td>\n",
              "      <td>Jalan Alamanda, Presint 1, 62000 Putrajaya</td>\n",
              "      <td>(Jalan Alamanda, Presint 1, Putrajaya, 62000, ...</td>\n",
              "      <td>2.937596</td>\n",
              "      <td>101.711968</td>\n",
              "    </tr>\n",
              "    <tr>\n",
              "      <th>1</th>\n",
              "      <td>IOI city mall Putrajaya</td>\n",
              "      <td>XP96+VJ,IOI Resort, 43000 Seri Kembangan, Sela...</td>\n",
              "      <td>None</td>\n",
              "      <td>NaN</td>\n",
              "      <td>NaN</td>\n",
              "    </tr>\n",
              "    <tr>\n",
              "      <th>2</th>\n",
              "      <td>Suria mall Putrajaya</td>\n",
              "      <td>Jalan Tun Abdul Razak, Presint 3, 62100 Putrajaya</td>\n",
              "      <td>None</td>\n",
              "      <td>NaN</td>\n",
              "      <td>NaN</td>\n",
              "    </tr>\n",
              "    <tr>\n",
              "      <th>3</th>\n",
              "      <td>Dõpulze shopping centre</td>\n",
              "      <td>Persiaran Multimedia, Cyberjaya, 63000 Cyberja...</td>\n",
              "      <td>(Persiaran Multimedia, Cyber 12, Cyberjaya, Se...</td>\n",
              "      <td>2.922220</td>\n",
              "      <td>101.645441</td>\n",
              "    </tr>\n",
              "    <tr>\n",
              "      <th>4</th>\n",
              "      <td>Gem in mall</td>\n",
              "      <td>Persiaran Sepang, Cyber 11, 63000 Cyberjaya, S...</td>\n",
              "      <td>(Persiaran Sepang, Cyber 9, Cyberjaya, Sepang,...</td>\n",
              "      <td>2.916354</td>\n",
              "      <td>101.634379</td>\n",
              "    </tr>\n",
              "    <tr>\n",
              "      <th>5</th>\n",
              "      <td>Shaftsbury square</td>\n",
              "      <td>Shaftsbury Square, Persiaran Multimedia, Cyber...</td>\n",
              "      <td>(Shaftsbury Square Shop &amp; Retail, Persiaran Mu...</td>\n",
              "      <td>2.923262</td>\n",
              "      <td>101.660718</td>\n",
              "    </tr>\n",
              "    <tr>\n",
              "      <th>6</th>\n",
              "      <td>Malakat mall</td>\n",
              "      <td>Lingkaran Cyber Point Timur, Cyberjaya, 63000 ...</td>\n",
              "      <td>(Lingkaran Cyber Point Timur, Cyber 12, Cyberj...</td>\n",
              "      <td>2.921339</td>\n",
              "      <td>101.650019</td>\n",
              "    </tr>\n",
              "    <tr>\n",
              "      <th>7</th>\n",
              "      <td>Bangi gateway</td>\n",
              "      <td>Seksyen 15, 43650 Bandar Baru Bangi, Selangor</td>\n",
              "      <td>(Seksyen 15, Bandar Baru Bangi, Majlis Perband...</td>\n",
              "      <td>2.929863</td>\n",
              "      <td>101.768207</td>\n",
              "    </tr>\n",
              "    <tr>\n",
              "      <th>8</th>\n",
              "      <td>De Centrum city</td>\n",
              "      <td>Jalan Ikram Uniten, 43000 Kajang, Selangor</td>\n",
              "      <td>None</td>\n",
              "      <td>NaN</td>\n",
              "      <td>NaN</td>\n",
              "    </tr>\n",
              "    <tr>\n",
              "      <th>9</th>\n",
              "      <td>Evo Bangi</td>\n",
              "      <td>Jalan Medan 2D, Seksyen 9, 43650 Bandar Baru B...</td>\n",
              "      <td>None</td>\n",
              "      <td>NaN</td>\n",
              "      <td>NaN</td>\n",
              "    </tr>\n",
              "    <tr>\n",
              "      <th>10</th>\n",
              "      <td>Kip mall Bangi</td>\n",
              "      <td>Jalan Medan Bangi, Seksyen 6, 43650 Bandar Bar...</td>\n",
              "      <td>(Jalan Medan Bangi, Seksyen 16, Bandar Baru Ba...</td>\n",
              "      <td>2.952677</td>\n",
              "      <td>101.756885</td>\n",
              "    </tr>\n",
              "    <tr>\n",
              "      <th>11</th>\n",
              "      <td>Metro point Kajang</td>\n",
              "      <td>Jalan Jelok Indah 9, Taman Jelok Indah, 43000 ...</td>\n",
              "      <td>None</td>\n",
              "      <td>NaN</td>\n",
              "      <td>NaN</td>\n",
              "    </tr>\n",
              "    <tr>\n",
              "      <th>12</th>\n",
              "      <td>Plaza metro Kajang</td>\n",
              "      <td>Jalan Tun Abdul Aziz, Seksyen 1, 43000 Kajang,...</td>\n",
              "      <td>None</td>\n",
              "      <td>NaN</td>\n",
              "      <td>NaN</td>\n",
              "    </tr>\n",
              "  </tbody>\n",
              "</table>\n",
              "</div>\n",
              "      <button class=\"colab-df-convert\" onclick=\"convertToInteractive('df-9cd97d1a-3c49-4509-ada7-10142ab8890f')\"\n",
              "              title=\"Convert this dataframe to an interactive table.\"\n",
              "              style=\"display:none;\">\n",
              "        \n",
              "  <svg xmlns=\"http://www.w3.org/2000/svg\" height=\"24px\"viewBox=\"0 0 24 24\"\n",
              "       width=\"24px\">\n",
              "    <path d=\"M0 0h24v24H0V0z\" fill=\"none\"/>\n",
              "    <path d=\"M18.56 5.44l.94 2.06.94-2.06 2.06-.94-2.06-.94-.94-2.06-.94 2.06-2.06.94zm-11 1L8.5 8.5l.94-2.06 2.06-.94-2.06-.94L8.5 2.5l-.94 2.06-2.06.94zm10 10l.94 2.06.94-2.06 2.06-.94-2.06-.94-.94-2.06-.94 2.06-2.06.94z\"/><path d=\"M17.41 7.96l-1.37-1.37c-.4-.4-.92-.59-1.43-.59-.52 0-1.04.2-1.43.59L10.3 9.45l-7.72 7.72c-.78.78-.78 2.05 0 2.83L4 21.41c.39.39.9.59 1.41.59.51 0 1.02-.2 1.41-.59l7.78-7.78 2.81-2.81c.8-.78.8-2.07 0-2.86zM5.41 20L4 18.59l7.72-7.72 1.47 1.35L5.41 20z\"/>\n",
              "  </svg>\n",
              "      </button>\n",
              "      \n",
              "  <style>\n",
              "    .colab-df-container {\n",
              "      display:flex;\n",
              "      flex-wrap:wrap;\n",
              "      gap: 12px;\n",
              "    }\n",
              "\n",
              "    .colab-df-convert {\n",
              "      background-color: #E8F0FE;\n",
              "      border: none;\n",
              "      border-radius: 50%;\n",
              "      cursor: pointer;\n",
              "      display: none;\n",
              "      fill: #1967D2;\n",
              "      height: 32px;\n",
              "      padding: 0 0 0 0;\n",
              "      width: 32px;\n",
              "    }\n",
              "\n",
              "    .colab-df-convert:hover {\n",
              "      background-color: #E2EBFA;\n",
              "      box-shadow: 0px 1px 2px rgba(60, 64, 67, 0.3), 0px 1px 3px 1px rgba(60, 64, 67, 0.15);\n",
              "      fill: #174EA6;\n",
              "    }\n",
              "\n",
              "    [theme=dark] .colab-df-convert {\n",
              "      background-color: #3B4455;\n",
              "      fill: #D2E3FC;\n",
              "    }\n",
              "\n",
              "    [theme=dark] .colab-df-convert:hover {\n",
              "      background-color: #434B5C;\n",
              "      box-shadow: 0px 1px 3px 1px rgba(0, 0, 0, 0.15);\n",
              "      filter: drop-shadow(0px 1px 2px rgba(0, 0, 0, 0.3));\n",
              "      fill: #FFFFFF;\n",
              "    }\n",
              "  </style>\n",
              "\n",
              "      <script>\n",
              "        const buttonEl =\n",
              "          document.querySelector('#df-9cd97d1a-3c49-4509-ada7-10142ab8890f button.colab-df-convert');\n",
              "        buttonEl.style.display =\n",
              "          google.colab.kernel.accessAllowed ? 'block' : 'none';\n",
              "\n",
              "        async function convertToInteractive(key) {\n",
              "          const element = document.querySelector('#df-9cd97d1a-3c49-4509-ada7-10142ab8890f');\n",
              "          const dataTable =\n",
              "            await google.colab.kernel.invokeFunction('convertToInteractive',\n",
              "                                                     [key], {});\n",
              "          if (!dataTable) return;\n",
              "\n",
              "          const docLinkHtml = 'Like what you see? Visit the ' +\n",
              "            '<a target=\"_blank\" href=https://colab.research.google.com/notebooks/data_table.ipynb>data table notebook</a>'\n",
              "            + ' to learn more about interactive tables.';\n",
              "          element.innerHTML = '';\n",
              "          dataTable['output_type'] = 'display_data';\n",
              "          await google.colab.output.renderOutput(dataTable, element);\n",
              "          const docLink = document.createElement('div');\n",
              "          docLink.innerHTML = docLinkHtml;\n",
              "          element.appendChild(docLink);\n",
              "        }\n",
              "      </script>\n",
              "    </div>\n",
              "  </div>\n",
              "  "
            ]
          },
          "metadata": {},
          "execution_count": 16
        }
      ],
      "source": [
        "df['Latitude']=df['coordinates'].apply(lambda x: x.latitude\n",
        "                                       if x != None else None)\n",
        "df['Longitude']=df['coordinates'].apply(lambda x: x.longitude\n",
        "                                        if x != None else None)\n",
        "df"
      ]
    },
    {
      "cell_type": "code",
      "execution_count": null,
      "id": "17f1d9dd-cf49-40f6-90dc-f02db8948b56",
      "metadata": {
        "tags": [],
        "id": "17f1d9dd-cf49-40f6-90dc-f02db8948b56",
        "outputId": "f995e141-8517-4c8f-b919-f120a5b44bcd",
        "colab": {
          "base_uri": "https://localhost:8080/",
          "height": 373
        }
      },
      "outputs": [
        {
          "output_type": "execute_result",
          "data": {
            "text/plain": [
              "                NAME OF MALL  \\\n",
              "0   Alamanda Shopping Centre   \n",
              "3    Dõpulze shopping centre   \n",
              "4                Gem in mall   \n",
              "5          Shaftsbury square   \n",
              "6               Malakat mall   \n",
              "7              Bangi gateway   \n",
              "10            Kip mall Bangi   \n",
              "\n",
              "                                              Address  \\\n",
              "0          Jalan Alamanda, Presint 1, 62000 Putrajaya   \n",
              "3   Persiaran Multimedia, Cyberjaya, 63000 Cyberja...   \n",
              "4   Persiaran Sepang, Cyber 11, 63000 Cyberjaya, S...   \n",
              "5   Shaftsbury Square, Persiaran Multimedia, Cyber...   \n",
              "6   Lingkaran Cyber Point Timur, Cyberjaya, 63000 ...   \n",
              "7       Seksyen 15, 43650 Bandar Baru Bangi, Selangor   \n",
              "10  Jalan Medan Bangi, Seksyen 6, 43650 Bandar Bar...   \n",
              "\n",
              "                                          coordinates  Latitude   Longitude  \n",
              "0   (Jalan Alamanda, Presint 1, Putrajaya, 62000, ...  2.937596  101.711968  \n",
              "3   (Persiaran Multimedia, Cyber 12, Cyberjaya, Se...  2.922220  101.645441  \n",
              "4   (Persiaran Sepang, Cyber 9, Cyberjaya, Sepang,...  2.916354  101.634379  \n",
              "5   (Shaftsbury Square Shop & Retail, Persiaran Mu...  2.923262  101.660718  \n",
              "6   (Lingkaran Cyber Point Timur, Cyber 12, Cyberj...  2.921339  101.650019  \n",
              "7   (Seksyen 15, Bandar Baru Bangi, Majlis Perband...  2.929863  101.768207  \n",
              "10  (Jalan Medan Bangi, Seksyen 16, Bandar Baru Ba...  2.952677  101.756885  "
            ],
            "text/html": [
              "\n",
              "  <div id=\"df-b6383ac4-8468-473b-a1de-e2e0df0d61a9\">\n",
              "    <div class=\"colab-df-container\">\n",
              "      <div>\n",
              "<style scoped>\n",
              "    .dataframe tbody tr th:only-of-type {\n",
              "        vertical-align: middle;\n",
              "    }\n",
              "\n",
              "    .dataframe tbody tr th {\n",
              "        vertical-align: top;\n",
              "    }\n",
              "\n",
              "    .dataframe thead th {\n",
              "        text-align: right;\n",
              "    }\n",
              "</style>\n",
              "<table border=\"1\" class=\"dataframe\">\n",
              "  <thead>\n",
              "    <tr style=\"text-align: right;\">\n",
              "      <th></th>\n",
              "      <th>NAME OF MALL</th>\n",
              "      <th>Address</th>\n",
              "      <th>coordinates</th>\n",
              "      <th>Latitude</th>\n",
              "      <th>Longitude</th>\n",
              "    </tr>\n",
              "  </thead>\n",
              "  <tbody>\n",
              "    <tr>\n",
              "      <th>0</th>\n",
              "      <td>Alamanda Shopping Centre</td>\n",
              "      <td>Jalan Alamanda, Presint 1, 62000 Putrajaya</td>\n",
              "      <td>(Jalan Alamanda, Presint 1, Putrajaya, 62000, ...</td>\n",
              "      <td>2.937596</td>\n",
              "      <td>101.711968</td>\n",
              "    </tr>\n",
              "    <tr>\n",
              "      <th>3</th>\n",
              "      <td>Dõpulze shopping centre</td>\n",
              "      <td>Persiaran Multimedia, Cyberjaya, 63000 Cyberja...</td>\n",
              "      <td>(Persiaran Multimedia, Cyber 12, Cyberjaya, Se...</td>\n",
              "      <td>2.922220</td>\n",
              "      <td>101.645441</td>\n",
              "    </tr>\n",
              "    <tr>\n",
              "      <th>4</th>\n",
              "      <td>Gem in mall</td>\n",
              "      <td>Persiaran Sepang, Cyber 11, 63000 Cyberjaya, S...</td>\n",
              "      <td>(Persiaran Sepang, Cyber 9, Cyberjaya, Sepang,...</td>\n",
              "      <td>2.916354</td>\n",
              "      <td>101.634379</td>\n",
              "    </tr>\n",
              "    <tr>\n",
              "      <th>5</th>\n",
              "      <td>Shaftsbury square</td>\n",
              "      <td>Shaftsbury Square, Persiaran Multimedia, Cyber...</td>\n",
              "      <td>(Shaftsbury Square Shop &amp; Retail, Persiaran Mu...</td>\n",
              "      <td>2.923262</td>\n",
              "      <td>101.660718</td>\n",
              "    </tr>\n",
              "    <tr>\n",
              "      <th>6</th>\n",
              "      <td>Malakat mall</td>\n",
              "      <td>Lingkaran Cyber Point Timur, Cyberjaya, 63000 ...</td>\n",
              "      <td>(Lingkaran Cyber Point Timur, Cyber 12, Cyberj...</td>\n",
              "      <td>2.921339</td>\n",
              "      <td>101.650019</td>\n",
              "    </tr>\n",
              "    <tr>\n",
              "      <th>7</th>\n",
              "      <td>Bangi gateway</td>\n",
              "      <td>Seksyen 15, 43650 Bandar Baru Bangi, Selangor</td>\n",
              "      <td>(Seksyen 15, Bandar Baru Bangi, Majlis Perband...</td>\n",
              "      <td>2.929863</td>\n",
              "      <td>101.768207</td>\n",
              "    </tr>\n",
              "    <tr>\n",
              "      <th>10</th>\n",
              "      <td>Kip mall Bangi</td>\n",
              "      <td>Jalan Medan Bangi, Seksyen 6, 43650 Bandar Bar...</td>\n",
              "      <td>(Jalan Medan Bangi, Seksyen 16, Bandar Baru Ba...</td>\n",
              "      <td>2.952677</td>\n",
              "      <td>101.756885</td>\n",
              "    </tr>\n",
              "  </tbody>\n",
              "</table>\n",
              "</div>\n",
              "      <button class=\"colab-df-convert\" onclick=\"convertToInteractive('df-b6383ac4-8468-473b-a1de-e2e0df0d61a9')\"\n",
              "              title=\"Convert this dataframe to an interactive table.\"\n",
              "              style=\"display:none;\">\n",
              "        \n",
              "  <svg xmlns=\"http://www.w3.org/2000/svg\" height=\"24px\"viewBox=\"0 0 24 24\"\n",
              "       width=\"24px\">\n",
              "    <path d=\"M0 0h24v24H0V0z\" fill=\"none\"/>\n",
              "    <path d=\"M18.56 5.44l.94 2.06.94-2.06 2.06-.94-2.06-.94-.94-2.06-.94 2.06-2.06.94zm-11 1L8.5 8.5l.94-2.06 2.06-.94-2.06-.94L8.5 2.5l-.94 2.06-2.06.94zm10 10l.94 2.06.94-2.06 2.06-.94-2.06-.94-.94-2.06-.94 2.06-2.06.94z\"/><path d=\"M17.41 7.96l-1.37-1.37c-.4-.4-.92-.59-1.43-.59-.52 0-1.04.2-1.43.59L10.3 9.45l-7.72 7.72c-.78.78-.78 2.05 0 2.83L4 21.41c.39.39.9.59 1.41.59.51 0 1.02-.2 1.41-.59l7.78-7.78 2.81-2.81c.8-.78.8-2.07 0-2.86zM5.41 20L4 18.59l7.72-7.72 1.47 1.35L5.41 20z\"/>\n",
              "  </svg>\n",
              "      </button>\n",
              "      \n",
              "  <style>\n",
              "    .colab-df-container {\n",
              "      display:flex;\n",
              "      flex-wrap:wrap;\n",
              "      gap: 12px;\n",
              "    }\n",
              "\n",
              "    .colab-df-convert {\n",
              "      background-color: #E8F0FE;\n",
              "      border: none;\n",
              "      border-radius: 50%;\n",
              "      cursor: pointer;\n",
              "      display: none;\n",
              "      fill: #1967D2;\n",
              "      height: 32px;\n",
              "      padding: 0 0 0 0;\n",
              "      width: 32px;\n",
              "    }\n",
              "\n",
              "    .colab-df-convert:hover {\n",
              "      background-color: #E2EBFA;\n",
              "      box-shadow: 0px 1px 2px rgba(60, 64, 67, 0.3), 0px 1px 3px 1px rgba(60, 64, 67, 0.15);\n",
              "      fill: #174EA6;\n",
              "    }\n",
              "\n",
              "    [theme=dark] .colab-df-convert {\n",
              "      background-color: #3B4455;\n",
              "      fill: #D2E3FC;\n",
              "    }\n",
              "\n",
              "    [theme=dark] .colab-df-convert:hover {\n",
              "      background-color: #434B5C;\n",
              "      box-shadow: 0px 1px 3px 1px rgba(0, 0, 0, 0.15);\n",
              "      filter: drop-shadow(0px 1px 2px rgba(0, 0, 0, 0.3));\n",
              "      fill: #FFFFFF;\n",
              "    }\n",
              "  </style>\n",
              "\n",
              "      <script>\n",
              "        const buttonEl =\n",
              "          document.querySelector('#df-b6383ac4-8468-473b-a1de-e2e0df0d61a9 button.colab-df-convert');\n",
              "        buttonEl.style.display =\n",
              "          google.colab.kernel.accessAllowed ? 'block' : 'none';\n",
              "\n",
              "        async function convertToInteractive(key) {\n",
              "          const element = document.querySelector('#df-b6383ac4-8468-473b-a1de-e2e0df0d61a9');\n",
              "          const dataTable =\n",
              "            await google.colab.kernel.invokeFunction('convertToInteractive',\n",
              "                                                     [key], {});\n",
              "          if (!dataTable) return;\n",
              "\n",
              "          const docLinkHtml = 'Like what you see? Visit the ' +\n",
              "            '<a target=\"_blank\" href=https://colab.research.google.com/notebooks/data_table.ipynb>data table notebook</a>'\n",
              "            + ' to learn more about interactive tables.';\n",
              "          element.innerHTML = '';\n",
              "          dataTable['output_type'] = 'display_data';\n",
              "          await google.colab.output.renderOutput(dataTable, element);\n",
              "          const docLink = document.createElement('div');\n",
              "          docLink.innerHTML = docLinkHtml;\n",
              "          element.appendChild(docLink);\n",
              "        }\n",
              "      </script>\n",
              "    </div>\n",
              "  </div>\n",
              "  "
            ]
          },
          "metadata": {},
          "execution_count": 17
        }
      ],
      "source": [
        "df = df[df['Latitude'].notnull()].copy()\n",
        "df"
      ]
    },
    {
      "cell_type": "markdown",
      "id": "ea1fe9eb-afc0-4a4c-b30c-91a9695f6e65",
      "metadata": {
        "id": "ea1fe9eb-afc0-4a4c-b30c-91a9695f6e65"
      },
      "source": [
        "# Step 5: Visualize the Data"
      ]
    },
    {
      "cell_type": "markdown",
      "id": "f481c43b-14ae-424a-bae9-632de8cb85ff",
      "metadata": {
        "id": "f481c43b-14ae-424a-bae9-632de8cb85ff"
      },
      "source": [
        "Once the coordinates have been obtained, I have used a mapping library such as Folium to plot the mall locations on a map."
      ]
    },
    {
      "cell_type": "code",
      "execution_count": null,
      "id": "b689b01a-1d8a-45fe-a8f2-f725ea0404e3",
      "metadata": {
        "tags": [],
        "id": "b689b01a-1d8a-45fe-a8f2-f725ea0404e3"
      },
      "outputs": [],
      "source": [
        "import os\n",
        "import folium"
      ]
    },
    {
      "cell_type": "code",
      "execution_count": null,
      "id": "1d7e0eb6-5ab9-4315-b028-c937fd019f17",
      "metadata": {
        "tags": [],
        "id": "1d7e0eb6-5ab9-4315-b028-c937fd019f17",
        "outputId": "c6e91196-2c12-4c0d-d806-43ed59005499",
        "colab": {
          "base_uri": "https://localhost:8080/",
          "height": 712
        }
      },
      "outputs": [
        {
          "output_type": "execute_result",
          "data": {
            "text/plain": [
              "<folium.folium.Map at 0x7f92cbae1c60>"
            ],
            "text/html": [
              "<div style=\"width:100%;\"><div style=\"position:relative;width:100%;height:0;padding-bottom:60%;\"><span style=\"color:#565656\">Make this Notebook Trusted to load map: File -> Trust Notebook</span><iframe srcdoc=\"&lt;!DOCTYPE html&gt;\n",
              "&lt;html&gt;\n",
              "&lt;head&gt;\n",
              "    \n",
              "    &lt;meta http-equiv=&quot;content-type&quot; content=&quot;text/html; charset=UTF-8&quot; /&gt;\n",
              "    \n",
              "        &lt;script&gt;\n",
              "            L_NO_TOUCH = false;\n",
              "            L_DISABLE_3D = false;\n",
              "        &lt;/script&gt;\n",
              "    \n",
              "    &lt;style&gt;html, body {width: 100%;height: 100%;margin: 0;padding: 0;}&lt;/style&gt;\n",
              "    &lt;style&gt;#map {position:absolute;top:0;bottom:0;right:0;left:0;}&lt;/style&gt;\n",
              "    &lt;script src=&quot;https://cdn.jsdelivr.net/npm/leaflet@1.9.3/dist/leaflet.js&quot;&gt;&lt;/script&gt;\n",
              "    &lt;script src=&quot;https://code.jquery.com/jquery-1.12.4.min.js&quot;&gt;&lt;/script&gt;\n",
              "    &lt;script src=&quot;https://cdn.jsdelivr.net/npm/bootstrap@5.2.2/dist/js/bootstrap.bundle.min.js&quot;&gt;&lt;/script&gt;\n",
              "    &lt;script src=&quot;https://cdnjs.cloudflare.com/ajax/libs/Leaflet.awesome-markers/2.0.2/leaflet.awesome-markers.js&quot;&gt;&lt;/script&gt;\n",
              "    &lt;link rel=&quot;stylesheet&quot; href=&quot;https://cdn.jsdelivr.net/npm/leaflet@1.9.3/dist/leaflet.css&quot;/&gt;\n",
              "    &lt;link rel=&quot;stylesheet&quot; href=&quot;https://cdn.jsdelivr.net/npm/bootstrap@5.2.2/dist/css/bootstrap.min.css&quot;/&gt;\n",
              "    &lt;link rel=&quot;stylesheet&quot; href=&quot;https://netdna.bootstrapcdn.com/bootstrap/3.0.0/css/bootstrap.min.css&quot;/&gt;\n",
              "    &lt;link rel=&quot;stylesheet&quot; href=&quot;https://cdn.jsdelivr.net/npm/@fortawesome/fontawesome-free@6.2.0/css/all.min.css&quot;/&gt;\n",
              "    &lt;link rel=&quot;stylesheet&quot; href=&quot;https://cdnjs.cloudflare.com/ajax/libs/Leaflet.awesome-markers/2.0.2/leaflet.awesome-markers.css&quot;/&gt;\n",
              "    &lt;link rel=&quot;stylesheet&quot; href=&quot;https://cdn.jsdelivr.net/gh/python-visualization/folium/folium/templates/leaflet.awesome.rotate.min.css&quot;/&gt;\n",
              "    \n",
              "            &lt;meta name=&quot;viewport&quot; content=&quot;width=device-width,\n",
              "                initial-scale=1.0, maximum-scale=1.0, user-scalable=no&quot; /&gt;\n",
              "            &lt;style&gt;\n",
              "                #map_462568b3d481f8c850bdb005f24ccf8c {\n",
              "                    position: relative;\n",
              "                    width: 100.0%;\n",
              "                    height: 100.0%;\n",
              "                    left: 0.0%;\n",
              "                    top: 0.0%;\n",
              "                }\n",
              "                .leaflet-container { font-size: 1rem; }\n",
              "            &lt;/style&gt;\n",
              "        \n",
              "&lt;/head&gt;\n",
              "&lt;body&gt;\n",
              "    \n",
              "    \n",
              "            &lt;div class=&quot;folium-map&quot; id=&quot;map_462568b3d481f8c850bdb005f24ccf8c&quot; &gt;&lt;/div&gt;\n",
              "        \n",
              "&lt;/body&gt;\n",
              "&lt;script&gt;\n",
              "    \n",
              "    \n",
              "            var map_462568b3d481f8c850bdb005f24ccf8c = L.map(\n",
              "                &quot;map_462568b3d481f8c850bdb005f24ccf8c&quot;,\n",
              "                {\n",
              "                    center: [0, 0],\n",
              "                    crs: L.CRS.EPSG3857,\n",
              "                    zoom: 1,\n",
              "                    zoomControl: true,\n",
              "                    preferCanvas: false,\n",
              "                }\n",
              "            );\n",
              "\n",
              "            \n",
              "\n",
              "        \n",
              "    \n",
              "            var tile_layer_55ff748385ea8d21d8ff2c19c307b577 = L.tileLayer(\n",
              "                &quot;https://{s}.tile.openstreetmap.org/{z}/{x}/{y}.png&quot;,\n",
              "                {&quot;attribution&quot;: &quot;Data by \\u0026copy; \\u003ca target=\\&quot;_blank\\&quot; href=\\&quot;http://openstreetmap.org\\&quot;\\u003eOpenStreetMap\\u003c/a\\u003e, under \\u003ca target=\\&quot;_blank\\&quot; href=\\&quot;http://www.openstreetmap.org/copyright\\&quot;\\u003eODbL\\u003c/a\\u003e.&quot;, &quot;detectRetina&quot;: false, &quot;maxNativeZoom&quot;: 18, &quot;maxZoom&quot;: 18, &quot;minZoom&quot;: 0, &quot;noWrap&quot;: false, &quot;opacity&quot;: 1, &quot;subdomains&quot;: &quot;abc&quot;, &quot;tms&quot;: false}\n",
              "            ).addTo(map_462568b3d481f8c850bdb005f24ccf8c);\n",
              "        \n",
              "&lt;/script&gt;\n",
              "&lt;/html&gt;\" style=\"position:absolute;width:100%;height:100%;left:0;top:0;border:none !important;\" allowfullscreen webkitallowfullscreen mozallowfullscreen></iframe></div></div>"
            ]
          },
          "metadata": {},
          "execution_count": 24
        }
      ],
      "source": [
        "# Mapping using folium\n",
        "m = folium.Map()\n",
        "m"
      ]
    },
    {
      "cell_type": "code",
      "execution_count": null,
      "id": "d6e3fcd2-44c3-4a23-ae4a-2d276a3e30eb",
      "metadata": {
        "tags": [],
        "id": "d6e3fcd2-44c3-4a23-ae4a-2d276a3e30eb",
        "outputId": "da0c6a11-1657-47d2-95fa-60834ce1d101",
        "colab": {
          "base_uri": "https://localhost:8080/",
          "height": 217
        }
      },
      "outputs": [
        {
          "output_type": "error",
          "ename": "NameError",
          "evalue": "ignored",
          "traceback": [
            "\u001b[0;31m---------------------------------------------------------------------------\u001b[0m",
            "\u001b[0;31mNameError\u001b[0m                                 Traceback (most recent call last)",
            "\u001b[0;32m<ipython-input-2-f47b97831fa8>\u001b[0m in \u001b[0;36m<cell line: 3>\u001b[0;34m()\u001b[0m\n\u001b[1;32m      1\u001b[0m \u001b[0;32mfrom\u001b[0m \u001b[0mfolium\u001b[0m \u001b[0;32mimport\u001b[0m \u001b[0mFigure\u001b[0m\u001b[0;34m\u001b[0m\u001b[0;34m\u001b[0m\u001b[0m\n\u001b[1;32m      2\u001b[0m \u001b[0mfig\u001b[0m \u001b[0;34m=\u001b[0m \u001b[0mFigure\u001b[0m\u001b[0;34m(\u001b[0m\u001b[0mwidth\u001b[0m\u001b[0;34m=\u001b[0m\u001b[0;36m800\u001b[0m\u001b[0;34m,\u001b[0m \u001b[0mheight\u001b[0m\u001b[0;34m=\u001b[0m\u001b[0;36m400\u001b[0m\u001b[0;34m)\u001b[0m\u001b[0;34m\u001b[0m\u001b[0;34m\u001b[0m\u001b[0m\n\u001b[0;32m----> 3\u001b[0;31m \u001b[0mm\u001b[0m \u001b[0;34m=\u001b[0m \u001b[0mfolium\u001b[0m\u001b[0;34m.\u001b[0m\u001b[0mMap\u001b[0m\u001b[0;34m(\u001b[0m\u001b[0mlocation\u001b[0m\u001b[0;34m=\u001b[0m\u001b[0;34m[\u001b[0m\u001b[0;36m2.9796\u001b[0m\u001b[0;34m,\u001b[0m \u001b[0;36m101.7386\u001b[0m\u001b[0;34m]\u001b[0m\u001b[0;34m,\u001b[0m \u001b[0mzoom_start\u001b[0m\u001b[0;34m=\u001b[0m\u001b[0;36m15\u001b[0m\u001b[0;34m)\u001b[0m\u001b[0;34m\u001b[0m\u001b[0;34m\u001b[0m\u001b[0m\n\u001b[0m\u001b[1;32m      4\u001b[0m \u001b[0mfig\u001b[0m\u001b[0;34m.\u001b[0m\u001b[0madd_child\u001b[0m\u001b[0;34m(\u001b[0m\u001b[0mm\u001b[0m\u001b[0;34m)\u001b[0m\u001b[0;34m\u001b[0m\u001b[0;34m\u001b[0m\u001b[0m\n",
            "\u001b[0;31mNameError\u001b[0m: name 'folium' is not defined"
          ]
        }
      ],
      "source": [
        "from folium import Figure\n",
        "fig = Figure(width=800, height=400)\n",
        "m = folium.Map(location=[2.9796, 101.7386], zoom_start=15)\n",
        "fig.add_child(m)"
      ]
    },
    {
      "cell_type": "code",
      "execution_count": null,
      "id": "10b254c8-e58b-40e0-befc-0db14dc90a1a",
      "metadata": {
        "tags": [],
        "id": "10b254c8-e58b-40e0-befc-0db14dc90a1a",
        "outputId": "e7ced873-2d76-4933-f51f-183b572377a7",
        "colab": {
          "base_uri": "https://localhost:8080/",
          "height": 235
        }
      },
      "outputs": [
        {
          "output_type": "error",
          "ename": "NameError",
          "evalue": "ignored",
          "traceback": [
            "\u001b[0;31m---------------------------------------------------------------------------\u001b[0m",
            "\u001b[0;31mNameError\u001b[0m                                 Traceback (most recent call last)",
            "\u001b[0;32m<ipython-input-1-8cb2eed13fb2>\u001b[0m in \u001b[0;36m<cell line: 1>\u001b[0;34m()\u001b[0m\n\u001b[0;32m----> 1\u001b[0;31m my_map = folium.Map(\n\u001b[0m\u001b[1;32m      2\u001b[0m     \u001b[0mlocation\u001b[0m\u001b[0;34m=\u001b[0m\u001b[0;34m[\u001b[0m\u001b[0;36m2.9796\u001b[0m\u001b[0;34m,\u001b[0m \u001b[0;36m101.7386\u001b[0m\u001b[0;34m]\u001b[0m\u001b[0;34m,\u001b[0m\u001b[0;34m\u001b[0m\u001b[0;34m\u001b[0m\u001b[0m\n\u001b[1;32m      3\u001b[0m     \u001b[0mtiles\u001b[0m\u001b[0;34m=\u001b[0m\u001b[0;34m'Stamen Toner'\u001b[0m\u001b[0;34m,\u001b[0m\u001b[0;34m\u001b[0m\u001b[0;34m\u001b[0m\u001b[0m\n\u001b[1;32m      4\u001b[0m     zoom_start=11)\n\u001b[1;32m      5\u001b[0m \u001b[0;34m\u001b[0m\u001b[0m\n",
            "\u001b[0;31mNameError\u001b[0m: name 'folium' is not defined"
          ]
        }
      ],
      "source": [
        "my_map = folium.Map(\n",
        "    location=[2.9796, 101.7386],\n",
        "    tiles='Stamen Toner',\n",
        "    zoom_start=11)\n",
        "\n",
        "df.apply(lambda row:folium.Marker(location=[row['Latitude'], row['Longitude']]).add_to(my_map), axis=1)\n",
        "\n",
        "# Display Mall Location in MAP\n",
        "my_map\n"
      ]
    }
  ],
  "metadata": {
    "kernelspec": {
      "display_name": "Python 3 (ipykernel)",
      "language": "python",
      "name": "python3"
    },
    "language_info": {
      "codemirror_mode": {
        "name": "ipython",
        "version": 3
      },
      "file_extension": ".py",
      "mimetype": "text/x-python",
      "name": "python",
      "nbconvert_exporter": "python",
      "pygments_lexer": "ipython3",
      "version": "3.11.0"
    },
    "colab": {
      "provenance": [],
      "include_colab_link": true
    }
  },
  "nbformat": 4,
  "nbformat_minor": 5
}